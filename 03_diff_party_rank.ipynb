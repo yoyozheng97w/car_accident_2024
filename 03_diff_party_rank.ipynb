{
 "cells": [
  {
   "cell_type": "code",
   "execution_count": 17,
   "metadata": {},
   "outputs": [],
   "source": [
    "import pandas as pd"
   ]
  },
  {
   "cell_type": "code",
   "execution_count": 18,
   "metadata": {},
   "outputs": [],
   "source": [
    "file_path = r'res/01_result.csv'\n",
    "df = pd.read_csv(file_path,  dtype=str)"
   ]
  },
  {
   "cell_type": "code",
   "execution_count": 19,
   "metadata": {},
   "outputs": [
    {
     "data": {
      "text/plain": [
       "Index(['月份', '日期', '時間', '事故類別', '地點', '縣市', '天候', '光線', '速限', '路面狀況', '死亡人數',\n",
       "       '受傷人數', '當事者順位', '車種', '性別', '年齡', '經度', '緯度'],\n",
       "      dtype='object')"
      ]
     },
     "execution_count": 19,
     "metadata": {},
     "output_type": "execute_result"
    }
   ],
   "source": [
    "df.columns"
   ]
  },
  {
   "cell_type": "code",
   "execution_count": 20,
   "metadata": {},
   "outputs": [
    {
     "data": {
      "text/html": [
       "<div>\n",
       "<style scoped>\n",
       "    .dataframe tbody tr th:only-of-type {\n",
       "        vertical-align: middle;\n",
       "    }\n",
       "\n",
       "    .dataframe tbody tr th {\n",
       "        vertical-align: top;\n",
       "    }\n",
       "\n",
       "    .dataframe thead th {\n",
       "        text-align: right;\n",
       "    }\n",
       "</style>\n",
       "<table border=\"1\" class=\"dataframe\">\n",
       "  <thead>\n",
       "    <tr style=\"text-align: right;\">\n",
       "      <th></th>\n",
       "      <th>月份</th>\n",
       "      <th>日期</th>\n",
       "      <th>時間</th>\n",
       "      <th>當事者順位</th>\n",
       "      <th>車種</th>\n",
       "      <th>性別</th>\n",
       "      <th>年齡</th>\n",
       "      <th>經度</th>\n",
       "      <th>緯度</th>\n",
       "    </tr>\n",
       "  </thead>\n",
       "  <tbody>\n",
       "    <tr>\n",
       "      <th>0</th>\n",
       "      <td>1</td>\n",
       "      <td>20240101</td>\n",
       "      <td>09:56:00</td>\n",
       "      <td>1</td>\n",
       "      <td>機車</td>\n",
       "      <td>男</td>\n",
       "      <td>19</td>\n",
       "      <td>120.533531</td>\n",
       "      <td>22.505826</td>\n",
       "    </tr>\n",
       "    <tr>\n",
       "      <th>1</th>\n",
       "      <td>1</td>\n",
       "      <td>20240101</td>\n",
       "      <td>13:56:00</td>\n",
       "      <td>1</td>\n",
       "      <td>大客車</td>\n",
       "      <td>男</td>\n",
       "      <td>57</td>\n",
       "      <td>121.387116</td>\n",
       "      <td>24.938925</td>\n",
       "    </tr>\n",
       "    <tr>\n",
       "      <th>2</th>\n",
       "      <td>1</td>\n",
       "      <td>20240101</td>\n",
       "      <td>13:56:00</td>\n",
       "      <td>2</td>\n",
       "      <td>機車</td>\n",
       "      <td>男</td>\n",
       "      <td>45</td>\n",
       "      <td>121.387116</td>\n",
       "      <td>24.938925</td>\n",
       "    </tr>\n",
       "    <tr>\n",
       "      <th>3</th>\n",
       "      <td>1</td>\n",
       "      <td>20240101</td>\n",
       "      <td>13:56:00</td>\n",
       "      <td>3</td>\n",
       "      <td>人</td>\n",
       "      <td>女</td>\n",
       "      <td>48</td>\n",
       "      <td>121.387116</td>\n",
       "      <td>24.938925</td>\n",
       "    </tr>\n",
       "    <tr>\n",
       "      <th>4</th>\n",
       "      <td>1</td>\n",
       "      <td>20240101</td>\n",
       "      <td>22:30:00</td>\n",
       "      <td>1</td>\n",
       "      <td>機車</td>\n",
       "      <td>男</td>\n",
       "      <td>63</td>\n",
       "      <td>119.641137</td>\n",
       "      <td>23.562740</td>\n",
       "    </tr>\n",
       "  </tbody>\n",
       "</table>\n",
       "</div>"
      ],
      "text/plain": [
       "  月份        日期        時間 當事者順位   車種 性別  年齡          經度         緯度\n",
       "0  1  20240101  09:56:00     1   機車  男  19  120.533531  22.505826\n",
       "1  1  20240101  13:56:00     1  大客車  男  57  121.387116  24.938925\n",
       "2  1  20240101  13:56:00     2   機車  男  45  121.387116  24.938925\n",
       "3  1  20240101  13:56:00     3    人  女  48  121.387116  24.938925\n",
       "4  1  20240101  22:30:00     1   機車  男  63  119.641137  23.562740"
      ]
     },
     "execution_count": 20,
     "metadata": {},
     "output_type": "execute_result"
    }
   ],
   "source": [
    "df = df.loc[:, ['月份',  '日期', '時間', '當事者順位', '車種', '性別', '年齡', '經度', '緯度']]\n",
    "df.head()"
   ]
  },
  {
   "cell_type": "code",
   "execution_count": 21,
   "metadata": {},
   "outputs": [
    {
     "data": {
      "text/plain": [
       "(465231, 9)"
      ]
     },
     "execution_count": 21,
     "metadata": {},
     "output_type": "execute_result"
    }
   ],
   "source": [
    "df = df .drop_duplicates()\n",
    "# 車種為空的是動物或堆置物\n",
    "df = df .dropna(subset=['車種'])\n",
    "df.shape"
   ]
  },
  {
   "cell_type": "code",
   "execution_count": 22,
   "metadata": {},
   "outputs": [
    {
     "data": {
      "text/plain": [
       "(465231, 10)"
      ]
     },
     "execution_count": 22,
     "metadata": {},
     "output_type": "execute_result"
    }
   ],
   "source": [
    "df['incident_id'] = df[['日期', '時間', '經度', '緯度']].apply(\"-\".join, axis=1)\n",
    "df.shape"
   ]
  },
  {
   "cell_type": "code",
   "execution_count": 23,
   "metadata": {},
   "outputs": [],
   "source": [
    "res_file_path = r'res/'\n",
    "df.to_csv(f\"{res_file_path}/03_diff_party.csv\", index=False)"
   ]
  }
 ],
 "metadata": {
  "kernelspec": {
   "display_name": "base",
   "language": "python",
   "name": "python3"
  },
  "language_info": {
   "codemirror_mode": {
    "name": "ipython",
    "version": 3
   },
   "file_extension": ".py",
   "mimetype": "text/x-python",
   "name": "python",
   "nbconvert_exporter": "python",
   "pygments_lexer": "ipython3",
   "version": "3.12.3"
  }
 },
 "nbformat": 4,
 "nbformat_minor": 2
}
