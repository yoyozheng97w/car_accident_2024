{
 "cells": [
  {
   "cell_type": "markdown",
   "metadata": {},
   "source": [
    "從 result.csv 中可發現有多筆資料為同一場車禍，因車禍中有多位當事人，所以分開紀錄\n",
    "\n",
    "此程式碼用於把同一場車禍的資料視為同一筆"
   ]
  },
  {
   "cell_type": "code",
   "execution_count": 33,
   "metadata": {},
   "outputs": [],
   "source": [
    "import pandas as pd"
   ]
  },
  {
   "cell_type": "code",
   "execution_count": 34,
   "metadata": {},
   "outputs": [
    {
     "data": {
      "text/plain": [
       "Index(['月份', '日期', '時間', '事故類別', '地點', '縣市', '天候', '光線', '速限', '路面狀況', '死亡人數',\n",
       "       '受傷人數', '當事者順位', '車種', '性別', '年齡', '經度', '緯度'],\n",
       "      dtype='object')"
      ]
     },
     "execution_count": 34,
     "metadata": {},
     "output_type": "execute_result"
    }
   ],
   "source": [
    "file_path = r'res/01_result.csv'\n",
    "df = pd.read_csv(file_path, dtype=str)\n",
    "df.columns"
   ]
  },
  {
   "cell_type": "code",
   "execution_count": 35,
   "metadata": {},
   "outputs": [],
   "source": [
    "df = df.loc[:, ['月份', '日期', '時間', '事故類別', '地點', \n",
    "                '縣市', '天候', '光線', '速限', '路面狀況', \n",
    "                '死亡人數', '受傷人數', '經度', '緯度']]"
   ]
  },
  {
   "cell_type": "code",
   "execution_count": 36,
   "metadata": {},
   "outputs": [],
   "source": [
    "subset=['日期', '時間', '經度', '緯度']\n",
    "df = df.drop_duplicates(subset=subset)"
   ]
  },
  {
   "cell_type": "code",
   "execution_count": 37,
   "metadata": {},
   "outputs": [
    {
     "data": {
      "text/plain": [
       "月份      object\n",
       "日期      object\n",
       "時間      object\n",
       "事故類別    object\n",
       "地點      object\n",
       "縣市      object\n",
       "天候      object\n",
       "光線      object\n",
       "速限      object\n",
       "路面狀況    object\n",
       "死亡人數    object\n",
       "受傷人數    object\n",
       "經度      object\n",
       "緯度      object\n",
       "dtype: object"
      ]
     },
     "execution_count": 37,
     "metadata": {},
     "output_type": "execute_result"
    }
   ],
   "source": [
    "# df['月份'] = df['月份'].astype(int)\n",
    "# df['日期'] = pd.to_datetime(df['日期'])\n",
    "# df['經度'] = df['經度'].astype(float)\n",
    "# df['緯度'] = df['緯度'].astype(float)\n",
    "df.dtypes"
   ]
  },
  {
   "cell_type": "code",
   "execution_count": null,
   "metadata": {},
   "outputs": [],
   "source": []
  },
  {
   "cell_type": "code",
   "execution_count": 38,
   "metadata": {},
   "outputs": [
    {
     "data": {
      "text/plain": [
       "(219127, 15)"
      ]
     },
     "execution_count": 38,
     "metadata": {},
     "output_type": "execute_result"
    }
   ],
   "source": [
    "df['incident_id'] = df[['日期', '時間', '經度', '緯度']].apply(\"-\".join, axis=1)\n",
    "df.shape"
   ]
  },
  {
   "cell_type": "code",
   "execution_count": 39,
   "metadata": {},
   "outputs": [],
   "source": [
    "res_file_path = r'res/'\n",
    "df.to_csv(f\"{res_file_path}/02_incident.csv\", index=False)"
   ]
  }
 ],
 "metadata": {
  "kernelspec": {
   "display_name": "base",
   "language": "python",
   "name": "python3"
  },
  "language_info": {
   "codemirror_mode": {
    "name": "ipython",
    "version": 3
   },
   "file_extension": ".py",
   "mimetype": "text/x-python",
   "name": "python",
   "nbconvert_exporter": "python",
   "pygments_lexer": "ipython3",
   "version": "3.12.3"
  }
 },
 "nbformat": 4,
 "nbformat_minor": 2
}
