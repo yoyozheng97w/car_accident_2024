{
 "cells": [
  {
   "cell_type": "code",
   "execution_count": 57,
   "metadata": {},
   "outputs": [],
   "source": [
    "import pandas as pd\n",
    "import os"
   ]
  },
  {
   "cell_type": "code",
   "execution_count": 58,
   "metadata": {},
   "outputs": [
    {
     "data": {
      "text/plain": [
       "(3526, 51)"
      ]
     },
     "execution_count": 58,
     "metadata": {},
     "output_type": "execute_result"
    }
   ],
   "source": [
    "file_path = 'source/NPA_TMA1.csv'\n",
    "df1 = pd.read_csv(file_path, engine=\"python\", skipinitialspace=True, dtype=str)\n",
    "df1.shape"
   ]
  },
  {
   "cell_type": "code",
   "execution_count": 59,
   "metadata": {},
   "outputs": [
    {
     "data": {
      "text/plain": [
       "(80427, 51)"
      ]
     },
     "execution_count": 59,
     "metadata": {},
     "output_type": "execute_result"
    }
   ],
   "source": [
    "file_path = 'source/NPA_TMA2_01.csv'\n",
    "df2_01 = pd.read_csv(file_path, engine=\"python\", skipinitialspace=True, dtype=str)\n",
    "df2_01.shape"
   ]
  },
  {
   "cell_type": "code",
   "execution_count": 60,
   "metadata": {},
   "outputs": [
    {
     "data": {
      "text/plain": [
       "(66732, 51)"
      ]
     },
     "execution_count": 60,
     "metadata": {},
     "output_type": "execute_result"
    }
   ],
   "source": [
    "file_path = 'source/NPA_TMA2_02.csv'\n",
    "df2_02 = pd.read_csv(file_path, engine=\"python\", skipinitialspace=True, dtype=str)\n",
    "df2_02.shape"
   ]
  },
  {
   "cell_type": "code",
   "execution_count": 61,
   "metadata": {},
   "outputs": [
    {
     "data": {
      "text/plain": [
       "(72187, 51)"
      ]
     },
     "execution_count": 61,
     "metadata": {},
     "output_type": "execute_result"
    }
   ],
   "source": [
    "file_path = 'source/NPA_TMA2_03.csv'\n",
    "df2_03 = pd.read_csv(file_path, engine=\"python\", skipinitialspace=True, dtype=str)\n",
    "df2_03.shape"
   ]
  },
  {
   "cell_type": "code",
   "execution_count": 62,
   "metadata": {},
   "outputs": [
    {
     "data": {
      "text/plain": [
       "(68731, 51)"
      ]
     },
     "execution_count": 62,
     "metadata": {},
     "output_type": "execute_result"
    }
   ],
   "source": [
    "file_path = 'source/NPA_TMA2_04.csv'\n",
    "df2_04 = pd.read_csv(file_path, engine=\"python\", skipinitialspace=True, dtype=str)\n",
    "df2_04.shape"
   ]
  },
  {
   "cell_type": "code",
   "execution_count": 63,
   "metadata": {},
   "outputs": [
    {
     "data": {
      "text/plain": [
       "(72476, 51)"
      ]
     },
     "execution_count": 63,
     "metadata": {},
     "output_type": "execute_result"
    }
   ],
   "source": [
    "file_path = 'source/NPA_TMA2_05.csv'\n",
    "df2_05 = pd.read_csv(file_path, engine=\"python\", skipinitialspace=True, dtype=str)\n",
    "df2_05.shape"
   ]
  },
  {
   "cell_type": "code",
   "execution_count": 64,
   "metadata": {},
   "outputs": [
    {
     "data": {
      "text/plain": [
       "(73269, 51)"
      ]
     },
     "execution_count": 64,
     "metadata": {},
     "output_type": "execute_result"
    }
   ],
   "source": [
    "file_path = 'source/NPA_TMA2_06.csv'\n",
    "df2_06 = pd.read_csv(file_path, engine=\"python\", skipinitialspace=True, dtype=str)\n",
    "df2_06.shape"
   ]
  },
  {
   "cell_type": "code",
   "execution_count": 65,
   "metadata": {},
   "outputs": [
    {
     "data": {
      "text/plain": [
       "(57519, 51)"
      ]
     },
     "execution_count": 65,
     "metadata": {},
     "output_type": "execute_result"
    }
   ],
   "source": [
    "file_path = 'source/NPA_TMA2_07.csv'\n",
    "df2_07 = pd.read_csv(file_path, engine=\"python\", skipinitialspace=True, dtype=str)\n",
    "df2_07.shape"
   ]
  },
  {
   "cell_type": "code",
   "execution_count": 66,
   "metadata": {},
   "outputs": [
    {
     "data": {
      "text/plain": [
       "(72849, 51)"
      ]
     },
     "execution_count": 66,
     "metadata": {},
     "output_type": "execute_result"
    }
   ],
   "source": [
    "file_path = 'source/NPA_TMA2_08.csv'\n",
    "df2_08 = pd.read_csv(file_path, engine=\"python\", skipinitialspace=True, dtype=str)\n",
    "df2_08.shape"
   ]
  },
  {
   "cell_type": "code",
   "execution_count": 67,
   "metadata": {},
   "outputs": [
    {
     "data": {
      "text/plain": [
       "(69998, 51)"
      ]
     },
     "execution_count": 67,
     "metadata": {},
     "output_type": "execute_result"
    }
   ],
   "source": [
    "file_path = 'source/NPA_TMA2_09.csv'\n",
    "df2_09 = pd.read_csv(file_path, engine=\"python\", skipinitialspace=True, dtype=str)\n",
    "df2_09.shape"
   ]
  },
  {
   "cell_type": "code",
   "execution_count": 68,
   "metadata": {},
   "outputs": [],
   "source": [
    "df = pd.concat([df1, df2_01, df2_02, df2_03, df2_04, df2_05, df2_06, df2_07, df2_08, df2_09,])\n",
    "df = df.reset_index(drop=True)"
   ]
  },
  {
   "cell_type": "code",
   "execution_count": 69,
   "metadata": {},
   "outputs": [
    {
     "data": {
      "text/plain": [
       "Index(['發生年度', '發生月份', '發生日期', '發生時間', '事故類別名稱', '處理單位名稱警局層', '發生地點', '天候名稱',\n",
       "       '光線名稱', '道路類別-第1當事者-名稱', '速限-第1當事者', '道路型態大類別名稱', '道路型態子類別名稱',\n",
       "       '事故位置大類別名稱', '事故位置子類別名稱', '路面狀況-路面鋪裝名稱', '路面狀況-路面狀態名稱', '路面狀況-路面缺陷名稱',\n",
       "       '道路障礙-障礙物名稱', '道路障礙-視距品質名稱', '道路障礙-視距名稱', '號誌-號誌種類名稱', '號誌-號誌動作名稱',\n",
       "       '車道劃分設施-分向設施大類別名稱', '車道劃分設施-分向設施子類別名稱', '車道劃分設施-分道設施-快車道或一般車道間名稱',\n",
       "       '車道劃分設施-分道設施-快慢車道間名稱', '車道劃分設施-分道設施-路面邊線名稱', '事故類型及型態大類別名稱',\n",
       "       '事故類型及型態子類別名稱', '肇因研判大類別名稱-主要', '肇因研判子類別名稱-主要', '死亡受傷人數', '當事者順位',\n",
       "       '當事者區分-類別-大類別名稱-車種', '當事者區分-類別-子類別名稱-車種', '當事者屬-性-別名稱', '當事者事故發生時年齡',\n",
       "       '保護裝備名稱', '行動電話或電腦或其他相類功能裝置名稱', '當事者行動狀態大類別名稱', '當事者行動狀態子類別名稱',\n",
       "       '車輛撞擊部位大類別名稱-最初', '車輛撞擊部位子類別名稱-最初', '車輛撞擊部位大類別名稱-其他', '車輛撞擊部位子類別名稱-其他',\n",
       "       '肇因研判大類別名稱-個別', '肇因研判子類別名稱-個別', '肇事逃逸類別名稱-是否肇逃', '經度', '緯度'],\n",
       "      dtype='object')"
      ]
     },
     "execution_count": 69,
     "metadata": {},
     "output_type": "execute_result"
    }
   ],
   "source": [
    "df.columns"
   ]
  },
  {
   "cell_type": "code",
   "execution_count": 70,
   "metadata": {},
   "outputs": [],
   "source": [
    "df = df.loc[:, ['發生月份', '發生日期', '發生時間', '事故類別名稱', '發生地點', '天候名稱',\n",
    "                '光線名稱', '速限-第1當事者', '路面狀況-路面狀態名稱', '死亡受傷人數', '當事者順位',\n",
    "                '當事者區分-類別-大類別名稱-車種', '當事者屬-性-別名稱', '當事者事故發生時年齡', '經度', '緯度',]]"
   ]
  },
  {
   "cell_type": "code",
   "execution_count": 71,
   "metadata": {},
   "outputs": [
    {
     "data": {
      "text/plain": [
       "Index(['月份', '日期', '時間', '事故類別', '地點', '天候', '光線', '速限', '路面狀況', '死亡受傷人數',\n",
       "       '當事者順位', '車種', '性別', '年齡', '經度', '緯度'],\n",
       "      dtype='object')"
      ]
     },
     "execution_count": 71,
     "metadata": {},
     "output_type": "execute_result"
    }
   ],
   "source": [
    "df = df.rename(columns={'發生月份': '月份', \n",
    "                        '發生日期': '日期',\n",
    "                        '發生時間': '時間',\n",
    "                        '事故類別名稱': '事故類別',\n",
    "                        '發生地點': '地點',\n",
    "                        '天候名稱': '天候', \n",
    "                        '光線名稱': '光線',\n",
    "                        '速限-第1當事者': '速限',\n",
    "                        '路面狀況-路面狀態名稱': '路面狀況', \n",
    "                        '當事者區分-類別-大類別名稱-車種': '車種',\n",
    "                        '當事者屬-性-別名稱': '性別',\n",
    "                        '當事者事故發生時年齡': '年齡',})\n",
    "df.columns"
   ]
  },
  {
   "cell_type": "code",
   "execution_count": 72,
   "metadata": {},
   "outputs": [
    {
     "data": {
      "text/plain": [
       "(637714, 16)"
      ]
     },
     "execution_count": 72,
     "metadata": {},
     "output_type": "execute_result"
    }
   ],
   "source": [
    "df.shape"
   ]
  },
  {
   "cell_type": "code",
   "execution_count": 73,
   "metadata": {},
   "outputs": [
    {
     "data": {
      "text/plain": [
       "(637707, 16)"
      ]
     },
     "execution_count": 73,
     "metadata": {},
     "output_type": "execute_result"
    }
   ],
   "source": [
    "df = df.dropna(subset=['月份', '日期', '時間' ,'年齡',])\n",
    "df.shape"
   ]
  },
  {
   "cell_type": "code",
   "execution_count": 74,
   "metadata": {},
   "outputs": [],
   "source": [
    "df['月份'] = df['月份'].astype(int)\n",
    "# df['日期'] = pd.to_datetime(df['日期'])\n",
    "df['時間'] = pd.to_datetime(df['時間'], format='%H%M%S').dt.strftime('%H:%M:%S')\n",
    "df['年齡'] = df['年齡'].astype(int)"
   ]
  },
  {
   "cell_type": "code",
   "execution_count": 75,
   "metadata": {},
   "outputs": [
    {
     "data": {
      "text/plain": [
       "(613384, 16)"
      ]
     },
     "execution_count": 75,
     "metadata": {},
     "output_type": "execute_result"
    }
   ],
   "source": [
    "condition1 = df['年齡'] < 0 \n",
    "df = df.drop(df[condition1].index)\n",
    "df.shape"
   ]
  },
  {
   "cell_type": "code",
   "execution_count": 76,
   "metadata": {},
   "outputs": [
    {
     "data": {
      "text/plain": [
       "(613378, 16)"
      ]
     },
     "execution_count": 76,
     "metadata": {},
     "output_type": "execute_result"
    }
   ],
   "source": [
    "condition2 = df['年齡'] > 113 \n",
    "df = df.drop(df[condition2].index)\n",
    "df.shape"
   ]
  },
  {
   "cell_type": "code",
   "execution_count": 77,
   "metadata": {},
   "outputs": [
    {
     "data": {
      "text/plain": [
       "(600330, 16)"
      ]
     },
     "execution_count": 77,
     "metadata": {},
     "output_type": "execute_result"
    }
   ],
   "source": [
    "con = df['性別'] == '無或物(動物、堆置物)'\n",
    "df = df.drop(df[con].index)\n",
    "df.shape"
   ]
  },
  {
   "cell_type": "code",
   "execution_count": 78,
   "metadata": {},
   "outputs": [],
   "source": [
    "df['死亡人數'] = df['死亡受傷人數'].map(lambda x: x.split(';')[0][2])\n",
    "df['死亡人數'] = df['死亡人數'].astype(int)\n",
    "df['受傷人數'] = df['死亡受傷人數'].map(lambda x: x.split(';')[1][2])\n",
    "df['受傷人數'] = df['受傷人數'].astype(int)"
   ]
  },
  {
   "cell_type": "code",
   "execution_count": 79,
   "metadata": {},
   "outputs": [
    {
     "data": {
      "text/plain": [
       "(600330, 19)"
      ]
     },
     "execution_count": 79,
     "metadata": {},
     "output_type": "execute_result"
    }
   ],
   "source": [
    "df['縣市'] = df['地點'].map(lambda x: x[0:3])\n",
    "df.shape"
   ]
  },
  {
   "cell_type": "code",
   "execution_count": 80,
   "metadata": {},
   "outputs": [
    {
     "data": {
      "text/plain": [
       "Index(['月份', '日期', '時間', '事故類別', '地點', '縣市', '天候', '光線', '速限', '路面狀況', '死亡人數',\n",
       "       '受傷人數', '當事者順位', '車種', '性別', '年齡', '經度', '緯度'],\n",
       "      dtype='object')"
      ]
     },
     "execution_count": 80,
     "metadata": {},
     "output_type": "execute_result"
    }
   ],
   "source": [
    "df = df.loc[:, ['月份', '日期', '時間', '事故類別', '地點', '縣市', '天候', '光線', '速限', '路面狀況', \n",
    "                '死亡人數', '受傷人數', '當事者順位', '車種', '性別', '年齡', '經度', '緯度',]]\n",
    "df.columns\n",
    "# df.dtypes"
   ]
  },
  {
   "cell_type": "code",
   "execution_count": 81,
   "metadata": {},
   "outputs": [],
   "source": [
    "df = df.drop_duplicates()"
   ]
  },
  {
   "cell_type": "code",
   "execution_count": 82,
   "metadata": {},
   "outputs": [],
   "source": [
    "res_file_path = r'res/'\n",
    "os.makedirs(res_file_path, exist_ok=True)\n",
    "df.to_csv(f\"{res_file_path}/01_result.csv\", index=False)"
   ]
  }
 ],
 "metadata": {
  "kernelspec": {
   "display_name": "base",
   "language": "python",
   "name": "python3"
  },
  "language_info": {
   "codemirror_mode": {
    "name": "ipython",
    "version": 3
   },
   "file_extension": ".py",
   "mimetype": "text/x-python",
   "name": "python",
   "nbconvert_exporter": "python",
   "pygments_lexer": "ipython3",
   "version": "3.12.3"
  }
 },
 "nbformat": 4,
 "nbformat_minor": 2
}
